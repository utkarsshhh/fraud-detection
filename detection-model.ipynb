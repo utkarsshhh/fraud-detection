{
 "cells": [
  {
   "cell_type": "code",
   "execution_count": 1,
   "id": "fdf281da",
   "metadata": {},
   "outputs": [],
   "source": [
    "import pandas as pd\n",
    "import numpy as np\n",
    "import matplotlib.pyplot as plt\n",
    "import seaborn as sns"
   ]
  },
  {
   "cell_type": "code",
   "execution_count": 2,
   "id": "94373b56",
   "metadata": {},
   "outputs": [],
   "source": [
    "present_data = pd.read_csv(\"data/application_data.csv\")"
   ]
  },
  {
   "cell_type": "code",
   "execution_count": 3,
   "id": "cf4125d4",
   "metadata": {},
   "outputs": [
    {
     "data": {
      "text/html": [
       "<div>\n",
       "<style scoped>\n",
       "    .dataframe tbody tr th:only-of-type {\n",
       "        vertical-align: middle;\n",
       "    }\n",
       "\n",
       "    .dataframe tbody tr th {\n",
       "        vertical-align: top;\n",
       "    }\n",
       "\n",
       "    .dataframe thead th {\n",
       "        text-align: right;\n",
       "    }\n",
       "</style>\n",
       "<table border=\"1\" class=\"dataframe\">\n",
       "  <thead>\n",
       "    <tr style=\"text-align: right;\">\n",
       "      <th></th>\n",
       "      <th>SK_ID_CURR</th>\n",
       "      <th>TARGET</th>\n",
       "      <th>NAME_CONTRACT_TYPE</th>\n",
       "      <th>CODE_GENDER</th>\n",
       "      <th>FLAG_OWN_CAR</th>\n",
       "      <th>FLAG_OWN_REALTY</th>\n",
       "      <th>CNT_CHILDREN</th>\n",
       "      <th>AMT_INCOME_TOTAL</th>\n",
       "      <th>AMT_CREDIT</th>\n",
       "      <th>AMT_ANNUITY</th>\n",
       "      <th>...</th>\n",
       "      <th>FLAG_DOCUMENT_18</th>\n",
       "      <th>FLAG_DOCUMENT_19</th>\n",
       "      <th>FLAG_DOCUMENT_20</th>\n",
       "      <th>FLAG_DOCUMENT_21</th>\n",
       "      <th>AMT_REQ_CREDIT_BUREAU_HOUR</th>\n",
       "      <th>AMT_REQ_CREDIT_BUREAU_DAY</th>\n",
       "      <th>AMT_REQ_CREDIT_BUREAU_WEEK</th>\n",
       "      <th>AMT_REQ_CREDIT_BUREAU_MON</th>\n",
       "      <th>AMT_REQ_CREDIT_BUREAU_QRT</th>\n",
       "      <th>AMT_REQ_CREDIT_BUREAU_YEAR</th>\n",
       "    </tr>\n",
       "  </thead>\n",
       "  <tbody>\n",
       "    <tr>\n",
       "      <th>0</th>\n",
       "      <td>100002</td>\n",
       "      <td>1</td>\n",
       "      <td>Cash loans</td>\n",
       "      <td>M</td>\n",
       "      <td>N</td>\n",
       "      <td>Y</td>\n",
       "      <td>0</td>\n",
       "      <td>202500.0</td>\n",
       "      <td>406597.5</td>\n",
       "      <td>24700.5</td>\n",
       "      <td>...</td>\n",
       "      <td>0</td>\n",
       "      <td>0</td>\n",
       "      <td>0</td>\n",
       "      <td>0</td>\n",
       "      <td>0.0</td>\n",
       "      <td>0.0</td>\n",
       "      <td>0.0</td>\n",
       "      <td>0.0</td>\n",
       "      <td>0.0</td>\n",
       "      <td>1.0</td>\n",
       "    </tr>\n",
       "    <tr>\n",
       "      <th>1</th>\n",
       "      <td>100003</td>\n",
       "      <td>0</td>\n",
       "      <td>Cash loans</td>\n",
       "      <td>F</td>\n",
       "      <td>N</td>\n",
       "      <td>N</td>\n",
       "      <td>0</td>\n",
       "      <td>270000.0</td>\n",
       "      <td>1293502.5</td>\n",
       "      <td>35698.5</td>\n",
       "      <td>...</td>\n",
       "      <td>0</td>\n",
       "      <td>0</td>\n",
       "      <td>0</td>\n",
       "      <td>0</td>\n",
       "      <td>0.0</td>\n",
       "      <td>0.0</td>\n",
       "      <td>0.0</td>\n",
       "      <td>0.0</td>\n",
       "      <td>0.0</td>\n",
       "      <td>0.0</td>\n",
       "    </tr>\n",
       "    <tr>\n",
       "      <th>2</th>\n",
       "      <td>100004</td>\n",
       "      <td>0</td>\n",
       "      <td>Revolving loans</td>\n",
       "      <td>M</td>\n",
       "      <td>Y</td>\n",
       "      <td>Y</td>\n",
       "      <td>0</td>\n",
       "      <td>67500.0</td>\n",
       "      <td>135000.0</td>\n",
       "      <td>6750.0</td>\n",
       "      <td>...</td>\n",
       "      <td>0</td>\n",
       "      <td>0</td>\n",
       "      <td>0</td>\n",
       "      <td>0</td>\n",
       "      <td>0.0</td>\n",
       "      <td>0.0</td>\n",
       "      <td>0.0</td>\n",
       "      <td>0.0</td>\n",
       "      <td>0.0</td>\n",
       "      <td>0.0</td>\n",
       "    </tr>\n",
       "    <tr>\n",
       "      <th>3</th>\n",
       "      <td>100006</td>\n",
       "      <td>0</td>\n",
       "      <td>Cash loans</td>\n",
       "      <td>F</td>\n",
       "      <td>N</td>\n",
       "      <td>Y</td>\n",
       "      <td>0</td>\n",
       "      <td>135000.0</td>\n",
       "      <td>312682.5</td>\n",
       "      <td>29686.5</td>\n",
       "      <td>...</td>\n",
       "      <td>0</td>\n",
       "      <td>0</td>\n",
       "      <td>0</td>\n",
       "      <td>0</td>\n",
       "      <td>NaN</td>\n",
       "      <td>NaN</td>\n",
       "      <td>NaN</td>\n",
       "      <td>NaN</td>\n",
       "      <td>NaN</td>\n",
       "      <td>NaN</td>\n",
       "    </tr>\n",
       "    <tr>\n",
       "      <th>4</th>\n",
       "      <td>100007</td>\n",
       "      <td>0</td>\n",
       "      <td>Cash loans</td>\n",
       "      <td>M</td>\n",
       "      <td>N</td>\n",
       "      <td>Y</td>\n",
       "      <td>0</td>\n",
       "      <td>121500.0</td>\n",
       "      <td>513000.0</td>\n",
       "      <td>21865.5</td>\n",
       "      <td>...</td>\n",
       "      <td>0</td>\n",
       "      <td>0</td>\n",
       "      <td>0</td>\n",
       "      <td>0</td>\n",
       "      <td>0.0</td>\n",
       "      <td>0.0</td>\n",
       "      <td>0.0</td>\n",
       "      <td>0.0</td>\n",
       "      <td>0.0</td>\n",
       "      <td>0.0</td>\n",
       "    </tr>\n",
       "  </tbody>\n",
       "</table>\n",
       "<p>5 rows × 122 columns</p>\n",
       "</div>"
      ],
      "text/plain": [
       "   SK_ID_CURR  TARGET NAME_CONTRACT_TYPE CODE_GENDER FLAG_OWN_CAR  \\\n",
       "0      100002       1         Cash loans           M            N   \n",
       "1      100003       0         Cash loans           F            N   \n",
       "2      100004       0    Revolving loans           M            Y   \n",
       "3      100006       0         Cash loans           F            N   \n",
       "4      100007       0         Cash loans           M            N   \n",
       "\n",
       "  FLAG_OWN_REALTY  CNT_CHILDREN  AMT_INCOME_TOTAL  AMT_CREDIT  AMT_ANNUITY  \\\n",
       "0               Y             0          202500.0    406597.5      24700.5   \n",
       "1               N             0          270000.0   1293502.5      35698.5   \n",
       "2               Y             0           67500.0    135000.0       6750.0   \n",
       "3               Y             0          135000.0    312682.5      29686.5   \n",
       "4               Y             0          121500.0    513000.0      21865.5   \n",
       "\n",
       "   ...  FLAG_DOCUMENT_18 FLAG_DOCUMENT_19 FLAG_DOCUMENT_20 FLAG_DOCUMENT_21  \\\n",
       "0  ...                 0                0                0                0   \n",
       "1  ...                 0                0                0                0   \n",
       "2  ...                 0                0                0                0   \n",
       "3  ...                 0                0                0                0   \n",
       "4  ...                 0                0                0                0   \n",
       "\n",
       "  AMT_REQ_CREDIT_BUREAU_HOUR AMT_REQ_CREDIT_BUREAU_DAY  \\\n",
       "0                        0.0                       0.0   \n",
       "1                        0.0                       0.0   \n",
       "2                        0.0                       0.0   \n",
       "3                        NaN                       NaN   \n",
       "4                        0.0                       0.0   \n",
       "\n",
       "   AMT_REQ_CREDIT_BUREAU_WEEK  AMT_REQ_CREDIT_BUREAU_MON  \\\n",
       "0                         0.0                        0.0   \n",
       "1                         0.0                        0.0   \n",
       "2                         0.0                        0.0   \n",
       "3                         NaN                        NaN   \n",
       "4                         0.0                        0.0   \n",
       "\n",
       "   AMT_REQ_CREDIT_BUREAU_QRT  AMT_REQ_CREDIT_BUREAU_YEAR  \n",
       "0                        0.0                         1.0  \n",
       "1                        0.0                         0.0  \n",
       "2                        0.0                         0.0  \n",
       "3                        NaN                         NaN  \n",
       "4                        0.0                         0.0  \n",
       "\n",
       "[5 rows x 122 columns]"
      ]
     },
     "execution_count": 3,
     "metadata": {},
     "output_type": "execute_result"
    }
   ],
   "source": [
    "present_data.head()"
   ]
  },
  {
   "cell_type": "code",
   "execution_count": 4,
   "id": "310d43bb",
   "metadata": {},
   "outputs": [],
   "source": [
    "previous_data = pd.read_csv(\"data/previous_application.csv\")"
   ]
  },
  {
   "cell_type": "code",
   "execution_count": 5,
   "id": "c2e3e1fd",
   "metadata": {},
   "outputs": [
    {
     "data": {
      "text/html": [
       "<div>\n",
       "<style scoped>\n",
       "    .dataframe tbody tr th:only-of-type {\n",
       "        vertical-align: middle;\n",
       "    }\n",
       "\n",
       "    .dataframe tbody tr th {\n",
       "        vertical-align: top;\n",
       "    }\n",
       "\n",
       "    .dataframe thead th {\n",
       "        text-align: right;\n",
       "    }\n",
       "</style>\n",
       "<table border=\"1\" class=\"dataframe\">\n",
       "  <thead>\n",
       "    <tr style=\"text-align: right;\">\n",
       "      <th></th>\n",
       "      <th>SK_ID_PREV</th>\n",
       "      <th>SK_ID_CURR</th>\n",
       "      <th>NAME_CONTRACT_TYPE</th>\n",
       "      <th>AMT_ANNUITY</th>\n",
       "      <th>AMT_APPLICATION</th>\n",
       "      <th>AMT_CREDIT</th>\n",
       "      <th>AMT_DOWN_PAYMENT</th>\n",
       "      <th>AMT_GOODS_PRICE</th>\n",
       "      <th>WEEKDAY_APPR_PROCESS_START</th>\n",
       "      <th>HOUR_APPR_PROCESS_START</th>\n",
       "      <th>...</th>\n",
       "      <th>NAME_SELLER_INDUSTRY</th>\n",
       "      <th>CNT_PAYMENT</th>\n",
       "      <th>NAME_YIELD_GROUP</th>\n",
       "      <th>PRODUCT_COMBINATION</th>\n",
       "      <th>DAYS_FIRST_DRAWING</th>\n",
       "      <th>DAYS_FIRST_DUE</th>\n",
       "      <th>DAYS_LAST_DUE_1ST_VERSION</th>\n",
       "      <th>DAYS_LAST_DUE</th>\n",
       "      <th>DAYS_TERMINATION</th>\n",
       "      <th>NFLAG_INSURED_ON_APPROVAL</th>\n",
       "    </tr>\n",
       "  </thead>\n",
       "  <tbody>\n",
       "    <tr>\n",
       "      <th>0</th>\n",
       "      <td>2030495</td>\n",
       "      <td>271877</td>\n",
       "      <td>Consumer loans</td>\n",
       "      <td>1730.430</td>\n",
       "      <td>17145.0</td>\n",
       "      <td>17145.0</td>\n",
       "      <td>0.0</td>\n",
       "      <td>17145.0</td>\n",
       "      <td>SATURDAY</td>\n",
       "      <td>15</td>\n",
       "      <td>...</td>\n",
       "      <td>Connectivity</td>\n",
       "      <td>12.0</td>\n",
       "      <td>middle</td>\n",
       "      <td>POS mobile with interest</td>\n",
       "      <td>365243.0</td>\n",
       "      <td>-42.0</td>\n",
       "      <td>300.0</td>\n",
       "      <td>-42.0</td>\n",
       "      <td>-37.0</td>\n",
       "      <td>0.0</td>\n",
       "    </tr>\n",
       "    <tr>\n",
       "      <th>1</th>\n",
       "      <td>2802425</td>\n",
       "      <td>108129</td>\n",
       "      <td>Cash loans</td>\n",
       "      <td>25188.615</td>\n",
       "      <td>607500.0</td>\n",
       "      <td>679671.0</td>\n",
       "      <td>NaN</td>\n",
       "      <td>607500.0</td>\n",
       "      <td>THURSDAY</td>\n",
       "      <td>11</td>\n",
       "      <td>...</td>\n",
       "      <td>XNA</td>\n",
       "      <td>36.0</td>\n",
       "      <td>low_action</td>\n",
       "      <td>Cash X-Sell: low</td>\n",
       "      <td>365243.0</td>\n",
       "      <td>-134.0</td>\n",
       "      <td>916.0</td>\n",
       "      <td>365243.0</td>\n",
       "      <td>365243.0</td>\n",
       "      <td>1.0</td>\n",
       "    </tr>\n",
       "    <tr>\n",
       "      <th>2</th>\n",
       "      <td>2523466</td>\n",
       "      <td>122040</td>\n",
       "      <td>Cash loans</td>\n",
       "      <td>15060.735</td>\n",
       "      <td>112500.0</td>\n",
       "      <td>136444.5</td>\n",
       "      <td>NaN</td>\n",
       "      <td>112500.0</td>\n",
       "      <td>TUESDAY</td>\n",
       "      <td>11</td>\n",
       "      <td>...</td>\n",
       "      <td>XNA</td>\n",
       "      <td>12.0</td>\n",
       "      <td>high</td>\n",
       "      <td>Cash X-Sell: high</td>\n",
       "      <td>365243.0</td>\n",
       "      <td>-271.0</td>\n",
       "      <td>59.0</td>\n",
       "      <td>365243.0</td>\n",
       "      <td>365243.0</td>\n",
       "      <td>1.0</td>\n",
       "    </tr>\n",
       "    <tr>\n",
       "      <th>3</th>\n",
       "      <td>2819243</td>\n",
       "      <td>176158</td>\n",
       "      <td>Cash loans</td>\n",
       "      <td>47041.335</td>\n",
       "      <td>450000.0</td>\n",
       "      <td>470790.0</td>\n",
       "      <td>NaN</td>\n",
       "      <td>450000.0</td>\n",
       "      <td>MONDAY</td>\n",
       "      <td>7</td>\n",
       "      <td>...</td>\n",
       "      <td>XNA</td>\n",
       "      <td>12.0</td>\n",
       "      <td>middle</td>\n",
       "      <td>Cash X-Sell: middle</td>\n",
       "      <td>365243.0</td>\n",
       "      <td>-482.0</td>\n",
       "      <td>-152.0</td>\n",
       "      <td>-182.0</td>\n",
       "      <td>-177.0</td>\n",
       "      <td>1.0</td>\n",
       "    </tr>\n",
       "    <tr>\n",
       "      <th>4</th>\n",
       "      <td>1784265</td>\n",
       "      <td>202054</td>\n",
       "      <td>Cash loans</td>\n",
       "      <td>31924.395</td>\n",
       "      <td>337500.0</td>\n",
       "      <td>404055.0</td>\n",
       "      <td>NaN</td>\n",
       "      <td>337500.0</td>\n",
       "      <td>THURSDAY</td>\n",
       "      <td>9</td>\n",
       "      <td>...</td>\n",
       "      <td>XNA</td>\n",
       "      <td>24.0</td>\n",
       "      <td>high</td>\n",
       "      <td>Cash Street: high</td>\n",
       "      <td>NaN</td>\n",
       "      <td>NaN</td>\n",
       "      <td>NaN</td>\n",
       "      <td>NaN</td>\n",
       "      <td>NaN</td>\n",
       "      <td>NaN</td>\n",
       "    </tr>\n",
       "  </tbody>\n",
       "</table>\n",
       "<p>5 rows × 37 columns</p>\n",
       "</div>"
      ],
      "text/plain": [
       "   SK_ID_PREV  SK_ID_CURR NAME_CONTRACT_TYPE  AMT_ANNUITY  AMT_APPLICATION  \\\n",
       "0     2030495      271877     Consumer loans     1730.430          17145.0   \n",
       "1     2802425      108129         Cash loans    25188.615         607500.0   \n",
       "2     2523466      122040         Cash loans    15060.735         112500.0   \n",
       "3     2819243      176158         Cash loans    47041.335         450000.0   \n",
       "4     1784265      202054         Cash loans    31924.395         337500.0   \n",
       "\n",
       "   AMT_CREDIT  AMT_DOWN_PAYMENT  AMT_GOODS_PRICE WEEKDAY_APPR_PROCESS_START  \\\n",
       "0     17145.0               0.0          17145.0                   SATURDAY   \n",
       "1    679671.0               NaN         607500.0                   THURSDAY   \n",
       "2    136444.5               NaN         112500.0                    TUESDAY   \n",
       "3    470790.0               NaN         450000.0                     MONDAY   \n",
       "4    404055.0               NaN         337500.0                   THURSDAY   \n",
       "\n",
       "   HOUR_APPR_PROCESS_START  ... NAME_SELLER_INDUSTRY  CNT_PAYMENT  \\\n",
       "0                       15  ...         Connectivity         12.0   \n",
       "1                       11  ...                  XNA         36.0   \n",
       "2                       11  ...                  XNA         12.0   \n",
       "3                        7  ...                  XNA         12.0   \n",
       "4                        9  ...                  XNA         24.0   \n",
       "\n",
       "   NAME_YIELD_GROUP       PRODUCT_COMBINATION  DAYS_FIRST_DRAWING  \\\n",
       "0            middle  POS mobile with interest            365243.0   \n",
       "1        low_action          Cash X-Sell: low            365243.0   \n",
       "2              high         Cash X-Sell: high            365243.0   \n",
       "3            middle       Cash X-Sell: middle            365243.0   \n",
       "4              high         Cash Street: high                 NaN   \n",
       "\n",
       "  DAYS_FIRST_DUE DAYS_LAST_DUE_1ST_VERSION  DAYS_LAST_DUE DAYS_TERMINATION  \\\n",
       "0          -42.0                     300.0          -42.0            -37.0   \n",
       "1         -134.0                     916.0       365243.0         365243.0   \n",
       "2         -271.0                      59.0       365243.0         365243.0   \n",
       "3         -482.0                    -152.0         -182.0           -177.0   \n",
       "4            NaN                       NaN            NaN              NaN   \n",
       "\n",
       "  NFLAG_INSURED_ON_APPROVAL  \n",
       "0                       0.0  \n",
       "1                       1.0  \n",
       "2                       1.0  \n",
       "3                       1.0  \n",
       "4                       NaN  \n",
       "\n",
       "[5 rows x 37 columns]"
      ]
     },
     "execution_count": 5,
     "metadata": {},
     "output_type": "execute_result"
    }
   ],
   "source": [
    "previous_data.head()"
   ]
  },
  {
   "cell_type": "code",
   "execution_count": 6,
   "id": "4893319f",
   "metadata": {},
   "outputs": [
    {
     "name": "stdout",
     "output_type": "stream",
     "text": [
      "<class 'pandas.core.frame.DataFrame'>\n",
      "RangeIndex: 307511 entries, 0 to 307510\n",
      "Columns: 122 entries, SK_ID_CURR to AMT_REQ_CREDIT_BUREAU_YEAR\n",
      "dtypes: float64(65), int64(41), object(16)\n",
      "memory usage: 286.2+ MB\n"
     ]
    }
   ],
   "source": [
    "present_data.info()"
   ]
  },
  {
   "cell_type": "code",
   "execution_count": 7,
   "id": "99ce20eb",
   "metadata": {},
   "outputs": [
    {
     "name": "stdout",
     "output_type": "stream",
     "text": [
      "<class 'pandas.core.frame.DataFrame'>\n",
      "RangeIndex: 1670214 entries, 0 to 1670213\n",
      "Data columns (total 37 columns):\n",
      " #   Column                       Non-Null Count    Dtype  \n",
      "---  ------                       --------------    -----  \n",
      " 0   SK_ID_PREV                   1670214 non-null  int64  \n",
      " 1   SK_ID_CURR                   1670214 non-null  int64  \n",
      " 2   NAME_CONTRACT_TYPE           1670214 non-null  object \n",
      " 3   AMT_ANNUITY                  1297979 non-null  float64\n",
      " 4   AMT_APPLICATION              1670214 non-null  float64\n",
      " 5   AMT_CREDIT                   1670213 non-null  float64\n",
      " 6   AMT_DOWN_PAYMENT             774370 non-null   float64\n",
      " 7   AMT_GOODS_PRICE              1284699 non-null  float64\n",
      " 8   WEEKDAY_APPR_PROCESS_START   1670214 non-null  object \n",
      " 9   HOUR_APPR_PROCESS_START      1670214 non-null  int64  \n",
      " 10  FLAG_LAST_APPL_PER_CONTRACT  1670214 non-null  object \n",
      " 11  NFLAG_LAST_APPL_IN_DAY       1670214 non-null  int64  \n",
      " 12  RATE_DOWN_PAYMENT            774370 non-null   float64\n",
      " 13  RATE_INTEREST_PRIMARY        5951 non-null     float64\n",
      " 14  RATE_INTEREST_PRIVILEGED     5951 non-null     float64\n",
      " 15  NAME_CASH_LOAN_PURPOSE       1670214 non-null  object \n",
      " 16  NAME_CONTRACT_STATUS         1670214 non-null  object \n",
      " 17  DAYS_DECISION                1670214 non-null  int64  \n",
      " 18  NAME_PAYMENT_TYPE            1670214 non-null  object \n",
      " 19  CODE_REJECT_REASON           1670214 non-null  object \n",
      " 20  NAME_TYPE_SUITE              849809 non-null   object \n",
      " 21  NAME_CLIENT_TYPE             1670214 non-null  object \n",
      " 22  NAME_GOODS_CATEGORY          1670214 non-null  object \n",
      " 23  NAME_PORTFOLIO               1670214 non-null  object \n",
      " 24  NAME_PRODUCT_TYPE            1670214 non-null  object \n",
      " 25  CHANNEL_TYPE                 1670214 non-null  object \n",
      " 26  SELLERPLACE_AREA             1670214 non-null  int64  \n",
      " 27  NAME_SELLER_INDUSTRY         1670214 non-null  object \n",
      " 28  CNT_PAYMENT                  1297984 non-null  float64\n",
      " 29  NAME_YIELD_GROUP             1670214 non-null  object \n",
      " 30  PRODUCT_COMBINATION          1669868 non-null  object \n",
      " 31  DAYS_FIRST_DRAWING           997149 non-null   float64\n",
      " 32  DAYS_FIRST_DUE               997149 non-null   float64\n",
      " 33  DAYS_LAST_DUE_1ST_VERSION    997149 non-null   float64\n",
      " 34  DAYS_LAST_DUE                997149 non-null   float64\n",
      " 35  DAYS_TERMINATION             997149 non-null   float64\n",
      " 36  NFLAG_INSURED_ON_APPROVAL    997149 non-null   float64\n",
      "dtypes: float64(15), int64(6), object(16)\n",
      "memory usage: 471.5+ MB\n"
     ]
    }
   ],
   "source": [
    "previous_data.info()"
   ]
  },
  {
   "cell_type": "code",
   "execution_count": null,
   "id": "fefb59be",
   "metadata": {},
   "outputs": [],
   "source": []
  },
  {
   "cell_type": "code",
   "execution_count": 8,
   "id": "375a7585",
   "metadata": {},
   "outputs": [
    {
     "data": {
      "text/plain": [
       "SK_ID_CURR                          0\n",
       "HOUR_APPR_PROCESS_START             0\n",
       "REG_REGION_NOT_WORK_REGION          0\n",
       "LIVE_REGION_NOT_WORK_REGION         0\n",
       "REG_CITY_NOT_LIVE_CITY              0\n",
       "                                ...  \n",
       "NONLIVINGAPARTMENTS_MEDI       213514\n",
       "NONLIVINGAPARTMENTS_MODE       213514\n",
       "COMMONAREA_MODE                214865\n",
       "COMMONAREA_AVG                 214865\n",
       "COMMONAREA_MEDI                214865\n",
       "Length: 122, dtype: int64"
      ]
     },
     "execution_count": 8,
     "metadata": {},
     "output_type": "execute_result"
    }
   ],
   "source": [
    "present_data.isnull().sum().sort_values()"
   ]
  },
  {
   "cell_type": "code",
   "execution_count": 9,
   "id": "d9f94a69",
   "metadata": {},
   "outputs": [],
   "source": [
    "# Dropping columns with more than 40% of null values\n",
    "present_df = present_data.drop(columns = present_data.columns[present_data.isnull().sum()/present_data.shape[0]>.3],axis =1)"
   ]
  },
  {
   "cell_type": "code",
   "execution_count": 10,
   "id": "bda92f3d",
   "metadata": {},
   "outputs": [
    {
     "data": {
      "text/plain": [
       "EXT_SOURCE_3                   60965\n",
       "AMT_REQ_CREDIT_BUREAU_YEAR     41519\n",
       "AMT_REQ_CREDIT_BUREAU_QRT      41519\n",
       "AMT_REQ_CREDIT_BUREAU_MON      41519\n",
       "AMT_REQ_CREDIT_BUREAU_WEEK     41519\n",
       "                               ...  \n",
       "REG_REGION_NOT_LIVE_REGION         0\n",
       "REG_REGION_NOT_WORK_REGION         0\n",
       "LIVE_REGION_NOT_WORK_REGION        0\n",
       "REG_CITY_NOT_LIVE_CITY             0\n",
       "REG_CITY_NOT_WORK_CITY             0\n",
       "Length: 72, dtype: int64"
      ]
     },
     "execution_count": 10,
     "metadata": {},
     "output_type": "execute_result"
    }
   ],
   "source": [
    "present_df.isnull().sum().sort_values(ascending = False)"
   ]
  },
  {
   "cell_type": "markdown",
   "id": "be971929",
   "metadata": {},
   "source": [
    "## Many columns with null values are still present which need to be removed or imputed"
   ]
  },
  {
   "cell_type": "code",
   "execution_count": 11,
   "id": "5fce0cd0",
   "metadata": {},
   "outputs": [
    {
     "data": {
      "text/plain": [
       "count    246546.000000\n",
       "mean          0.510853\n",
       "std           0.194844\n",
       "min           0.000527\n",
       "25%           0.370650\n",
       "50%           0.535276\n",
       "75%           0.669057\n",
       "max           0.896010\n",
       "Name: EXT_SOURCE_3, dtype: float64"
      ]
     },
     "execution_count": 11,
     "metadata": {},
     "output_type": "execute_result"
    }
   ],
   "source": [
    "present_df['EXT_SOURCE_3'].describe()"
   ]
  },
  {
   "cell_type": "code",
   "execution_count": 12,
   "id": "e11e8db6",
   "metadata": {},
   "outputs": [],
   "source": [
    "present_df.drop(labels = 'EXT_SOURCE_3',axis =1,inplace = True)"
   ]
  },
  {
   "cell_type": "code",
   "execution_count": 13,
   "id": "87a724e2",
   "metadata": {},
   "outputs": [
    {
     "data": {
      "text/plain": [
       "AMT_REQ_CREDIT_BUREAU_YEAR     41519\n",
       "AMT_REQ_CREDIT_BUREAU_QRT      41519\n",
       "AMT_REQ_CREDIT_BUREAU_MON      41519\n",
       "AMT_REQ_CREDIT_BUREAU_WEEK     41519\n",
       "AMT_REQ_CREDIT_BUREAU_DAY      41519\n",
       "                               ...  \n",
       "REG_REGION_NOT_LIVE_REGION         0\n",
       "REG_REGION_NOT_WORK_REGION         0\n",
       "LIVE_REGION_NOT_WORK_REGION        0\n",
       "TARGET                             0\n",
       "REG_CITY_NOT_LIVE_CITY             0\n",
       "Length: 71, dtype: int64"
      ]
     },
     "execution_count": 13,
     "metadata": {},
     "output_type": "execute_result"
    }
   ],
   "source": [
    "present_df.isnull().sum().sort_values(ascending = False)"
   ]
  },
  {
   "cell_type": "code",
   "execution_count": 14,
   "id": "e0de53b1",
   "metadata": {},
   "outputs": [
    {
     "data": {
      "text/plain": [
       "count    265992.000000\n",
       "mean          1.899974\n",
       "std           1.869295\n",
       "min           0.000000\n",
       "25%           0.000000\n",
       "50%           1.000000\n",
       "75%           3.000000\n",
       "max          25.000000\n",
       "Name: AMT_REQ_CREDIT_BUREAU_YEAR, dtype: float64"
      ]
     },
     "execution_count": 14,
     "metadata": {},
     "output_type": "execute_result"
    }
   ],
   "source": [
    "present_df['AMT_REQ_CREDIT_BUREAU_YEAR'].describe()"
   ]
  },
  {
   "cell_type": "code",
   "execution_count": 15,
   "id": "5bf7472a",
   "metadata": {},
   "outputs": [],
   "source": [
    "present_df.drop(labels = 'AMT_REQ_CREDIT_BUREAU_YEAR',axis =1,inplace = True)"
   ]
  },
  {
   "cell_type": "code",
   "execution_count": 33,
   "id": "7e8cae94",
   "metadata": {},
   "outputs": [
    {
     "data": {
      "text/plain": [
       "count    265989.000000\n",
       "mean          0.265477\n",
       "std           0.794060\n",
       "min           0.000000\n",
       "25%           0.000000\n",
       "50%           0.000000\n",
       "75%           0.000000\n",
       "max         261.000000\n",
       "Name: AMT_REQ_CREDIT_BUREAU_QRT, dtype: float64"
      ]
     },
     "execution_count": 33,
     "metadata": {},
     "output_type": "execute_result"
    }
   ],
   "source": [
    "present_df['AMT_REQ_CREDIT_BUREAU_QRT'].describe()"
   ]
  },
  {
   "cell_type": "code",
   "execution_count": 34,
   "id": "182e3423",
   "metadata": {},
   "outputs": [],
   "source": [
    "present_df['AMT_REQ_CREDIT_BUREAU_QRT'] = present_df['AMT_REQ_CREDIT_BUREAU_QRT'].fillna(0.0)"
   ]
  },
  {
   "cell_type": "code",
   "execution_count": 35,
   "id": "79383a94",
   "metadata": {},
   "outputs": [
    {
     "data": {
      "text/plain": [
       "count    265989.000000\n",
       "mean          0.267398\n",
       "std           0.916007\n",
       "min           0.000000\n",
       "25%           0.000000\n",
       "50%           0.000000\n",
       "75%           0.000000\n",
       "max          27.000000\n",
       "Name: AMT_REQ_CREDIT_BUREAU_MON, dtype: float64"
      ]
     },
     "execution_count": 35,
     "metadata": {},
     "output_type": "execute_result"
    }
   ],
   "source": [
    "present_df['AMT_REQ_CREDIT_BUREAU_MON'].describe()"
   ]
  },
  {
   "cell_type": "code",
   "execution_count": 36,
   "id": "30873782",
   "metadata": {},
   "outputs": [],
   "source": [
    "present_df['AMT_REQ_CREDIT_BUREAU_MON'] = present_df['AMT_REQ_CREDIT_BUREAU_MON'].fillna(0.0)"
   ]
  },
  {
   "cell_type": "code",
   "execution_count": 37,
   "id": "17e5d486",
   "metadata": {},
   "outputs": [
    {
     "data": {
      "text/plain": [
       "count    265989.000000\n",
       "mean          0.034359\n",
       "std           0.204677\n",
       "min           0.000000\n",
       "25%           0.000000\n",
       "50%           0.000000\n",
       "75%           0.000000\n",
       "max           8.000000\n",
       "Name: AMT_REQ_CREDIT_BUREAU_WEEK, dtype: float64"
      ]
     },
     "execution_count": 37,
     "metadata": {},
     "output_type": "execute_result"
    }
   ],
   "source": [
    "present_df['AMT_REQ_CREDIT_BUREAU_WEEK'].describe()"
   ]
  },
  {
   "cell_type": "code",
   "execution_count": 38,
   "id": "7f5f3a93",
   "metadata": {},
   "outputs": [],
   "source": [
    "present_df['AMT_REQ_CREDIT_BUREAU_WEEK'] = present_df['AMT_REQ_CREDIT_BUREAU_WEEK'].fillna(0.0)"
   ]
  },
  {
   "cell_type": "code",
   "execution_count": 39,
   "id": "946f054a",
   "metadata": {},
   "outputs": [
    {
     "data": {
      "text/plain": [
       "count    265989.000000\n",
       "mean          0.007000\n",
       "std           0.110758\n",
       "min           0.000000\n",
       "25%           0.000000\n",
       "50%           0.000000\n",
       "75%           0.000000\n",
       "max           9.000000\n",
       "Name: AMT_REQ_CREDIT_BUREAU_DAY, dtype: float64"
      ]
     },
     "execution_count": 39,
     "metadata": {},
     "output_type": "execute_result"
    }
   ],
   "source": [
    "present_df['AMT_REQ_CREDIT_BUREAU_DAY'].describe()"
   ]
  },
  {
   "cell_type": "code",
   "execution_count": 40,
   "id": "d70884c3",
   "metadata": {},
   "outputs": [],
   "source": [
    "present_df['AMT_REQ_CREDIT_BUREAU_DAY'] = present_df['AMT_REQ_CREDIT_BUREAU_DAY'].fillna(0.0)"
   ]
  },
  {
   "cell_type": "code",
   "execution_count": 69,
   "id": "d9b187cb",
   "metadata": {},
   "outputs": [
    {
     "data": {
      "text/plain": [
       "NAME_TYPE_SUITE                1292\n",
       "OBS_30_CNT_SOCIAL_CIRCLE       1021\n",
       "DEF_30_CNT_SOCIAL_CIRCLE       1021\n",
       "OBS_60_CNT_SOCIAL_CIRCLE       1021\n",
       "DEF_60_CNT_SOCIAL_CIRCLE       1021\n",
       "                               ... \n",
       "HOUR_APPR_PROCESS_START           0\n",
       "REG_REGION_NOT_LIVE_REGION        0\n",
       "REG_REGION_NOT_WORK_REGION        0\n",
       "LIVE_REGION_NOT_WORK_REGION       0\n",
       "AMT_REQ_CREDIT_BUREAU_QRT         0\n",
       "Length: 70, dtype: int64"
      ]
     },
     "execution_count": 69,
     "metadata": {},
     "output_type": "execute_result"
    }
   ],
   "source": [
    "present_df.isnull().sum().sort_values(ascending = False)"
   ]
  },
  {
   "cell_type": "code",
   "execution_count": 42,
   "id": "55d3e67b",
   "metadata": {},
   "outputs": [
    {
     "data": {
      "text/plain": [
       "count    265989.000000\n",
       "mean          0.006403\n",
       "std           0.083850\n",
       "min           0.000000\n",
       "25%           0.000000\n",
       "50%           0.000000\n",
       "75%           0.000000\n",
       "max           4.000000\n",
       "Name: AMT_REQ_CREDIT_BUREAU_HOUR, dtype: float64"
      ]
     },
     "execution_count": 42,
     "metadata": {},
     "output_type": "execute_result"
    }
   ],
   "source": [
    "present_df['AMT_REQ_CREDIT_BUREAU_HOUR'].describe()"
   ]
  },
  {
   "cell_type": "code",
   "execution_count": 68,
   "id": "a93b29c9",
   "metadata": {},
   "outputs": [],
   "source": [
    "present_df['AMT_REQ_CREDIT_BUREAU_HOUR'] = present_df['AMT_REQ_CREDIT_BUREAU_HOUR'].fillna(0.0)"
   ]
  },
  {
   "cell_type": "code",
   "execution_count": 73,
   "id": "3422c2c3",
   "metadata": {},
   "outputs": [],
   "source": [
    "na_columns = present_df.isnull().sum().sort_values(ascending = False)"
   ]
  },
  {
   "cell_type": "code",
   "execution_count": 77,
   "id": "f11ffa5f",
   "metadata": {},
   "outputs": [
    {
     "data": {
      "text/html": [
       "<div>\n",
       "<style scoped>\n",
       "    .dataframe tbody tr th:only-of-type {\n",
       "        vertical-align: middle;\n",
       "    }\n",
       "\n",
       "    .dataframe tbody tr th {\n",
       "        vertical-align: top;\n",
       "    }\n",
       "\n",
       "    .dataframe thead th {\n",
       "        text-align: right;\n",
       "    }\n",
       "</style>\n",
       "<table border=\"1\" class=\"dataframe\">\n",
       "  <thead>\n",
       "    <tr style=\"text-align: right;\">\n",
       "      <th></th>\n",
       "      <th>SK_ID_CURR</th>\n",
       "      <th>TARGET</th>\n",
       "      <th>NAME_CONTRACT_TYPE</th>\n",
       "      <th>CODE_GENDER</th>\n",
       "      <th>FLAG_OWN_CAR</th>\n",
       "      <th>FLAG_OWN_REALTY</th>\n",
       "      <th>CNT_CHILDREN</th>\n",
       "      <th>AMT_INCOME_TOTAL</th>\n",
       "      <th>AMT_CREDIT</th>\n",
       "      <th>AMT_ANNUITY</th>\n",
       "      <th>...</th>\n",
       "      <th>FLAG_DOCUMENT_17</th>\n",
       "      <th>FLAG_DOCUMENT_18</th>\n",
       "      <th>FLAG_DOCUMENT_19</th>\n",
       "      <th>FLAG_DOCUMENT_20</th>\n",
       "      <th>FLAG_DOCUMENT_21</th>\n",
       "      <th>AMT_REQ_CREDIT_BUREAU_HOUR</th>\n",
       "      <th>AMT_REQ_CREDIT_BUREAU_DAY</th>\n",
       "      <th>AMT_REQ_CREDIT_BUREAU_WEEK</th>\n",
       "      <th>AMT_REQ_CREDIT_BUREAU_MON</th>\n",
       "      <th>AMT_REQ_CREDIT_BUREAU_QRT</th>\n",
       "    </tr>\n",
       "  </thead>\n",
       "  <tbody>\n",
       "    <tr>\n",
       "      <th>64</th>\n",
       "      <td>100076</td>\n",
       "      <td>0</td>\n",
       "      <td>Cash loans</td>\n",
       "      <td>M</td>\n",
       "      <td>Y</td>\n",
       "      <td>N</td>\n",
       "      <td>0</td>\n",
       "      <td>180000.0</td>\n",
       "      <td>315000.0</td>\n",
       "      <td>9679.5</td>\n",
       "      <td>...</td>\n",
       "      <td>0</td>\n",
       "      <td>0</td>\n",
       "      <td>0</td>\n",
       "      <td>0</td>\n",
       "      <td>0</td>\n",
       "      <td>0.0</td>\n",
       "      <td>0.0</td>\n",
       "      <td>0.0</td>\n",
       "      <td>0.0</td>\n",
       "      <td>0.0</td>\n",
       "    </tr>\n",
       "    <tr>\n",
       "      <th>724</th>\n",
       "      <td>100837</td>\n",
       "      <td>0</td>\n",
       "      <td>Revolving loans</td>\n",
       "      <td>F</td>\n",
       "      <td>N</td>\n",
       "      <td>Y</td>\n",
       "      <td>2</td>\n",
       "      <td>45000.0</td>\n",
       "      <td>135000.0</td>\n",
       "      <td>6750.0</td>\n",
       "      <td>...</td>\n",
       "      <td>0</td>\n",
       "      <td>0</td>\n",
       "      <td>0</td>\n",
       "      <td>0</td>\n",
       "      <td>0</td>\n",
       "      <td>0.0</td>\n",
       "      <td>0.0</td>\n",
       "      <td>0.0</td>\n",
       "      <td>0.0</td>\n",
       "      <td>0.0</td>\n",
       "    </tr>\n",
       "    <tr>\n",
       "      <th>1199</th>\n",
       "      <td>101414</td>\n",
       "      <td>0</td>\n",
       "      <td>Cash loans</td>\n",
       "      <td>M</td>\n",
       "      <td>Y</td>\n",
       "      <td>N</td>\n",
       "      <td>0</td>\n",
       "      <td>135000.0</td>\n",
       "      <td>533668.5</td>\n",
       "      <td>34636.5</td>\n",
       "      <td>...</td>\n",
       "      <td>0</td>\n",
       "      <td>0</td>\n",
       "      <td>0</td>\n",
       "      <td>0</td>\n",
       "      <td>0</td>\n",
       "      <td>0.0</td>\n",
       "      <td>0.0</td>\n",
       "      <td>0.0</td>\n",
       "      <td>4.0</td>\n",
       "      <td>0.0</td>\n",
       "    </tr>\n",
       "    <tr>\n",
       "      <th>1669</th>\n",
       "      <td>101954</td>\n",
       "      <td>0</td>\n",
       "      <td>Cash loans</td>\n",
       "      <td>F</td>\n",
       "      <td>Y</td>\n",
       "      <td>N</td>\n",
       "      <td>2</td>\n",
       "      <td>153000.0</td>\n",
       "      <td>1162170.0</td>\n",
       "      <td>30654.0</td>\n",
       "      <td>...</td>\n",
       "      <td>0</td>\n",
       "      <td>0</td>\n",
       "      <td>0</td>\n",
       "      <td>0</td>\n",
       "      <td>0</td>\n",
       "      <td>0.0</td>\n",
       "      <td>0.0</td>\n",
       "      <td>0.0</td>\n",
       "      <td>0.0</td>\n",
       "      <td>0.0</td>\n",
       "    </tr>\n",
       "    <tr>\n",
       "      <th>1862</th>\n",
       "      <td>102183</td>\n",
       "      <td>0</td>\n",
       "      <td>Cash loans</td>\n",
       "      <td>F</td>\n",
       "      <td>Y</td>\n",
       "      <td>N</td>\n",
       "      <td>0</td>\n",
       "      <td>121500.0</td>\n",
       "      <td>268659.0</td>\n",
       "      <td>13774.5</td>\n",
       "      <td>...</td>\n",
       "      <td>0</td>\n",
       "      <td>0</td>\n",
       "      <td>0</td>\n",
       "      <td>0</td>\n",
       "      <td>0</td>\n",
       "      <td>0.0</td>\n",
       "      <td>0.0</td>\n",
       "      <td>0.0</td>\n",
       "      <td>0.0</td>\n",
       "      <td>2.0</td>\n",
       "    </tr>\n",
       "    <tr>\n",
       "      <th>...</th>\n",
       "      <td>...</td>\n",
       "      <td>...</td>\n",
       "      <td>...</td>\n",
       "      <td>...</td>\n",
       "      <td>...</td>\n",
       "      <td>...</td>\n",
       "      <td>...</td>\n",
       "      <td>...</td>\n",
       "      <td>...</td>\n",
       "      <td>...</td>\n",
       "      <td>...</td>\n",
       "      <td>...</td>\n",
       "      <td>...</td>\n",
       "      <td>...</td>\n",
       "      <td>...</td>\n",
       "      <td>...</td>\n",
       "      <td>...</td>\n",
       "      <td>...</td>\n",
       "      <td>...</td>\n",
       "      <td>...</td>\n",
       "      <td>...</td>\n",
       "    </tr>\n",
       "    <tr>\n",
       "      <th>306273</th>\n",
       "      <td>454852</td>\n",
       "      <td>0</td>\n",
       "      <td>Revolving loans</td>\n",
       "      <td>M</td>\n",
       "      <td>N</td>\n",
       "      <td>Y</td>\n",
       "      <td>2</td>\n",
       "      <td>67500.0</td>\n",
       "      <td>202500.0</td>\n",
       "      <td>10125.0</td>\n",
       "      <td>...</td>\n",
       "      <td>0</td>\n",
       "      <td>0</td>\n",
       "      <td>0</td>\n",
       "      <td>0</td>\n",
       "      <td>0</td>\n",
       "      <td>0.0</td>\n",
       "      <td>0.0</td>\n",
       "      <td>0.0</td>\n",
       "      <td>1.0</td>\n",
       "      <td>0.0</td>\n",
       "    </tr>\n",
       "    <tr>\n",
       "      <th>306544</th>\n",
       "      <td>455158</td>\n",
       "      <td>0</td>\n",
       "      <td>Cash loans</td>\n",
       "      <td>F</td>\n",
       "      <td>N</td>\n",
       "      <td>N</td>\n",
       "      <td>0</td>\n",
       "      <td>180000.0</td>\n",
       "      <td>894825.0</td>\n",
       "      <td>23602.5</td>\n",
       "      <td>...</td>\n",
       "      <td>0</td>\n",
       "      <td>0</td>\n",
       "      <td>0</td>\n",
       "      <td>0</td>\n",
       "      <td>0</td>\n",
       "      <td>0.0</td>\n",
       "      <td>0.0</td>\n",
       "      <td>0.0</td>\n",
       "      <td>0.0</td>\n",
       "      <td>0.0</td>\n",
       "    </tr>\n",
       "    <tr>\n",
       "      <th>306615</th>\n",
       "      <td>455245</td>\n",
       "      <td>0</td>\n",
       "      <td>Cash loans</td>\n",
       "      <td>M</td>\n",
       "      <td>N</td>\n",
       "      <td>N</td>\n",
       "      <td>0</td>\n",
       "      <td>180000.0</td>\n",
       "      <td>225000.0</td>\n",
       "      <td>8469.0</td>\n",
       "      <td>...</td>\n",
       "      <td>0</td>\n",
       "      <td>0</td>\n",
       "      <td>0</td>\n",
       "      <td>0</td>\n",
       "      <td>0</td>\n",
       "      <td>0.0</td>\n",
       "      <td>0.0</td>\n",
       "      <td>0.0</td>\n",
       "      <td>0.0</td>\n",
       "      <td>1.0</td>\n",
       "    </tr>\n",
       "    <tr>\n",
       "      <th>306636</th>\n",
       "      <td>455270</td>\n",
       "      <td>0</td>\n",
       "      <td>Cash loans</td>\n",
       "      <td>M</td>\n",
       "      <td>Y</td>\n",
       "      <td>N</td>\n",
       "      <td>2</td>\n",
       "      <td>189000.0</td>\n",
       "      <td>677664.0</td>\n",
       "      <td>21406.5</td>\n",
       "      <td>...</td>\n",
       "      <td>0</td>\n",
       "      <td>0</td>\n",
       "      <td>1</td>\n",
       "      <td>0</td>\n",
       "      <td>0</td>\n",
       "      <td>0.0</td>\n",
       "      <td>0.0</td>\n",
       "      <td>0.0</td>\n",
       "      <td>0.0</td>\n",
       "      <td>0.0</td>\n",
       "    </tr>\n",
       "    <tr>\n",
       "      <th>306725</th>\n",
       "      <td>455367</td>\n",
       "      <td>0</td>\n",
       "      <td>Cash loans</td>\n",
       "      <td>F</td>\n",
       "      <td>N</td>\n",
       "      <td>Y</td>\n",
       "      <td>0</td>\n",
       "      <td>202500.0</td>\n",
       "      <td>755190.0</td>\n",
       "      <td>27985.5</td>\n",
       "      <td>...</td>\n",
       "      <td>0</td>\n",
       "      <td>0</td>\n",
       "      <td>0</td>\n",
       "      <td>0</td>\n",
       "      <td>0</td>\n",
       "      <td>0.0</td>\n",
       "      <td>0.0</td>\n",
       "      <td>0.0</td>\n",
       "      <td>0.0</td>\n",
       "      <td>1.0</td>\n",
       "    </tr>\n",
       "  </tbody>\n",
       "</table>\n",
       "<p>1292 rows × 70 columns</p>\n",
       "</div>"
      ],
      "text/plain": [
       "        SK_ID_CURR  TARGET NAME_CONTRACT_TYPE CODE_GENDER FLAG_OWN_CAR  \\\n",
       "64          100076       0         Cash loans           M            Y   \n",
       "724         100837       0    Revolving loans           F            N   \n",
       "1199        101414       0         Cash loans           M            Y   \n",
       "1669        101954       0         Cash loans           F            Y   \n",
       "1862        102183       0         Cash loans           F            Y   \n",
       "...            ...     ...                ...         ...          ...   \n",
       "306273      454852       0    Revolving loans           M            N   \n",
       "306544      455158       0         Cash loans           F            N   \n",
       "306615      455245       0         Cash loans           M            N   \n",
       "306636      455270       0         Cash loans           M            Y   \n",
       "306725      455367       0         Cash loans           F            N   \n",
       "\n",
       "       FLAG_OWN_REALTY  CNT_CHILDREN  AMT_INCOME_TOTAL  AMT_CREDIT  \\\n",
       "64                   N             0          180000.0    315000.0   \n",
       "724                  Y             2           45000.0    135000.0   \n",
       "1199                 N             0          135000.0    533668.5   \n",
       "1669                 N             2          153000.0   1162170.0   \n",
       "1862                 N             0          121500.0    268659.0   \n",
       "...                ...           ...               ...         ...   \n",
       "306273               Y             2           67500.0    202500.0   \n",
       "306544               N             0          180000.0    894825.0   \n",
       "306615               N             0          180000.0    225000.0   \n",
       "306636               N             2          189000.0    677664.0   \n",
       "306725               Y             0          202500.0    755190.0   \n",
       "\n",
       "        AMT_ANNUITY  ...  FLAG_DOCUMENT_17 FLAG_DOCUMENT_18 FLAG_DOCUMENT_19  \\\n",
       "64           9679.5  ...                 0                0                0   \n",
       "724          6750.0  ...                 0                0                0   \n",
       "1199        34636.5  ...                 0                0                0   \n",
       "1669        30654.0  ...                 0                0                0   \n",
       "1862        13774.5  ...                 0                0                0   \n",
       "...             ...  ...               ...              ...              ...   \n",
       "306273      10125.0  ...                 0                0                0   \n",
       "306544      23602.5  ...                 0                0                0   \n",
       "306615       8469.0  ...                 0                0                0   \n",
       "306636      21406.5  ...                 0                0                1   \n",
       "306725      27985.5  ...                 0                0                0   \n",
       "\n",
       "       FLAG_DOCUMENT_20 FLAG_DOCUMENT_21 AMT_REQ_CREDIT_BUREAU_HOUR  \\\n",
       "64                    0                0                        0.0   \n",
       "724                   0                0                        0.0   \n",
       "1199                  0                0                        0.0   \n",
       "1669                  0                0                        0.0   \n",
       "1862                  0                0                        0.0   \n",
       "...                 ...              ...                        ...   \n",
       "306273                0                0                        0.0   \n",
       "306544                0                0                        0.0   \n",
       "306615                0                0                        0.0   \n",
       "306636                0                0                        0.0   \n",
       "306725                0                0                        0.0   \n",
       "\n",
       "        AMT_REQ_CREDIT_BUREAU_DAY  AMT_REQ_CREDIT_BUREAU_WEEK  \\\n",
       "64                            0.0                         0.0   \n",
       "724                           0.0                         0.0   \n",
       "1199                          0.0                         0.0   \n",
       "1669                          0.0                         0.0   \n",
       "1862                          0.0                         0.0   \n",
       "...                           ...                         ...   \n",
       "306273                        0.0                         0.0   \n",
       "306544                        0.0                         0.0   \n",
       "306615                        0.0                         0.0   \n",
       "306636                        0.0                         0.0   \n",
       "306725                        0.0                         0.0   \n",
       "\n",
       "        AMT_REQ_CREDIT_BUREAU_MON  AMT_REQ_CREDIT_BUREAU_QRT  \n",
       "64                            0.0                        0.0  \n",
       "724                           0.0                        0.0  \n",
       "1199                          4.0                        0.0  \n",
       "1669                          0.0                        0.0  \n",
       "1862                          0.0                        2.0  \n",
       "...                           ...                        ...  \n",
       "306273                        1.0                        0.0  \n",
       "306544                        0.0                        0.0  \n",
       "306615                        0.0                        1.0  \n",
       "306636                        0.0                        0.0  \n",
       "306725                        0.0                        1.0  \n",
       "\n",
       "[1292 rows x 70 columns]"
      ]
     },
     "execution_count": 77,
     "metadata": {},
     "output_type": "execute_result"
    }
   ],
   "source": [
    "present_df.loc[present_df['NAME_TYPE_SUITE'].isna()]"
   ]
  },
  {
   "cell_type": "code",
   "execution_count": 79,
   "id": "e7d1b17d",
   "metadata": {},
   "outputs": [],
   "source": [
    "present_df.dropna(subset = 'NAME_TYPE_SUITE',axis =0,inplace = True)"
   ]
  },
  {
   "cell_type": "code",
   "execution_count": 83,
   "id": "82432ef6",
   "metadata": {},
   "outputs": [
    {
     "data": {
      "text/html": [
       "<div>\n",
       "<style scoped>\n",
       "    .dataframe tbody tr th:only-of-type {\n",
       "        vertical-align: middle;\n",
       "    }\n",
       "\n",
       "    .dataframe tbody tr th {\n",
       "        vertical-align: top;\n",
       "    }\n",
       "\n",
       "    .dataframe thead th {\n",
       "        text-align: right;\n",
       "    }\n",
       "</style>\n",
       "<table border=\"1\" class=\"dataframe\">\n",
       "  <thead>\n",
       "    <tr style=\"text-align: right;\">\n",
       "      <th></th>\n",
       "      <th>SK_ID_CURR</th>\n",
       "      <th>TARGET</th>\n",
       "      <th>CNT_CHILDREN</th>\n",
       "      <th>AMT_INCOME_TOTAL</th>\n",
       "      <th>AMT_CREDIT</th>\n",
       "      <th>AMT_ANNUITY</th>\n",
       "      <th>AMT_GOODS_PRICE</th>\n",
       "      <th>REGION_POPULATION_RELATIVE</th>\n",
       "      <th>DAYS_BIRTH</th>\n",
       "      <th>DAYS_EMPLOYED</th>\n",
       "      <th>...</th>\n",
       "      <th>FLAG_DOCUMENT_17</th>\n",
       "      <th>FLAG_DOCUMENT_18</th>\n",
       "      <th>FLAG_DOCUMENT_19</th>\n",
       "      <th>FLAG_DOCUMENT_20</th>\n",
       "      <th>FLAG_DOCUMENT_21</th>\n",
       "      <th>AMT_REQ_CREDIT_BUREAU_HOUR</th>\n",
       "      <th>AMT_REQ_CREDIT_BUREAU_DAY</th>\n",
       "      <th>AMT_REQ_CREDIT_BUREAU_WEEK</th>\n",
       "      <th>AMT_REQ_CREDIT_BUREAU_MON</th>\n",
       "      <th>AMT_REQ_CREDIT_BUREAU_QRT</th>\n",
       "    </tr>\n",
       "  </thead>\n",
       "  <tbody>\n",
       "    <tr>\n",
       "      <th>count</th>\n",
       "      <td>306214.000000</td>\n",
       "      <td>306214.000000</td>\n",
       "      <td>306214.000000</td>\n",
       "      <td>3.062140e+05</td>\n",
       "      <td>3.062140e+05</td>\n",
       "      <td>306202.000000</td>\n",
       "      <td>3.062140e+05</td>\n",
       "      <td>306214.000000</td>\n",
       "      <td>306214.000000</td>\n",
       "      <td>306214.000000</td>\n",
       "      <td>...</td>\n",
       "      <td>306214.000000</td>\n",
       "      <td>306214.000000</td>\n",
       "      <td>306214.000000</td>\n",
       "      <td>306214.000000</td>\n",
       "      <td>306214.000000</td>\n",
       "      <td>306214.000000</td>\n",
       "      <td>306214.000000</td>\n",
       "      <td>306214.000000</td>\n",
       "      <td>306214.000000</td>\n",
       "      <td>306214.000000</td>\n",
       "    </tr>\n",
       "    <tr>\n",
       "      <th>mean</th>\n",
       "      <td>278163.871590</td>\n",
       "      <td>0.080839</td>\n",
       "      <td>0.417006</td>\n",
       "      <td>1.682496e+05</td>\n",
       "      <td>5.987910e+05</td>\n",
       "      <td>27121.214336</td>\n",
       "      <td>5.379404e+05</td>\n",
       "      <td>0.020866</td>\n",
       "      <td>-16040.609851</td>\n",
       "      <td>63859.172530</td>\n",
       "      <td>...</td>\n",
       "      <td>0.000261</td>\n",
       "      <td>0.007818</td>\n",
       "      <td>0.000571</td>\n",
       "      <td>0.000493</td>\n",
       "      <td>0.000330</td>\n",
       "      <td>0.005526</td>\n",
       "      <td>0.006038</td>\n",
       "      <td>0.029786</td>\n",
       "      <td>0.231436</td>\n",
       "      <td>0.229771</td>\n",
       "    </tr>\n",
       "    <tr>\n",
       "      <th>std</th>\n",
       "      <td>102786.902546</td>\n",
       "      <td>0.272588</td>\n",
       "      <td>0.722105</td>\n",
       "      <td>9.911863e+04</td>\n",
       "      <td>4.019564e+05</td>\n",
       "      <td>14488.210001</td>\n",
       "      <td>3.689145e+05</td>\n",
       "      <td>0.013830</td>\n",
       "      <td>4362.887063</td>\n",
       "      <td>141313.743985</td>\n",
       "      <td>...</td>\n",
       "      <td>0.016161</td>\n",
       "      <td>0.088074</td>\n",
       "      <td>0.023899</td>\n",
       "      <td>0.022201</td>\n",
       "      <td>0.018158</td>\n",
       "      <td>0.077951</td>\n",
       "      <td>0.102765</td>\n",
       "      <td>0.190798</td>\n",
       "      <td>0.856385</td>\n",
       "      <td>0.744699</td>\n",
       "    </tr>\n",
       "    <tr>\n",
       "      <th>min</th>\n",
       "      <td>100002.000000</td>\n",
       "      <td>0.000000</td>\n",
       "      <td>0.000000</td>\n",
       "      <td>2.565000e+04</td>\n",
       "      <td>4.500000e+04</td>\n",
       "      <td>1615.500000</td>\n",
       "      <td>4.050000e+04</td>\n",
       "      <td>0.000290</td>\n",
       "      <td>-25229.000000</td>\n",
       "      <td>-17912.000000</td>\n",
       "      <td>...</td>\n",
       "      <td>0.000000</td>\n",
       "      <td>0.000000</td>\n",
       "      <td>0.000000</td>\n",
       "      <td>0.000000</td>\n",
       "      <td>0.000000</td>\n",
       "      <td>0.000000</td>\n",
       "      <td>0.000000</td>\n",
       "      <td>0.000000</td>\n",
       "      <td>0.000000</td>\n",
       "      <td>0.000000</td>\n",
       "    </tr>\n",
       "    <tr>\n",
       "      <th>25%</th>\n",
       "      <td>189129.250000</td>\n",
       "      <td>0.000000</td>\n",
       "      <td>0.000000</td>\n",
       "      <td>1.125000e+05</td>\n",
       "      <td>2.700000e+05</td>\n",
       "      <td>16551.000000</td>\n",
       "      <td>2.385000e+05</td>\n",
       "      <td>0.010006</td>\n",
       "      <td>-19685.000000</td>\n",
       "      <td>-2761.000000</td>\n",
       "      <td>...</td>\n",
       "      <td>0.000000</td>\n",
       "      <td>0.000000</td>\n",
       "      <td>0.000000</td>\n",
       "      <td>0.000000</td>\n",
       "      <td>0.000000</td>\n",
       "      <td>0.000000</td>\n",
       "      <td>0.000000</td>\n",
       "      <td>0.000000</td>\n",
       "      <td>0.000000</td>\n",
       "      <td>0.000000</td>\n",
       "    </tr>\n",
       "    <tr>\n",
       "      <th>50%</th>\n",
       "      <td>278183.500000</td>\n",
       "      <td>0.000000</td>\n",
       "      <td>0.000000</td>\n",
       "      <td>1.476000e+05</td>\n",
       "      <td>5.135310e+05</td>\n",
       "      <td>24930.000000</td>\n",
       "      <td>4.500000e+05</td>\n",
       "      <td>0.018850</td>\n",
       "      <td>-15756.000000</td>\n",
       "      <td>-1214.000000</td>\n",
       "      <td>...</td>\n",
       "      <td>0.000000</td>\n",
       "      <td>0.000000</td>\n",
       "      <td>0.000000</td>\n",
       "      <td>0.000000</td>\n",
       "      <td>0.000000</td>\n",
       "      <td>0.000000</td>\n",
       "      <td>0.000000</td>\n",
       "      <td>0.000000</td>\n",
       "      <td>0.000000</td>\n",
       "      <td>0.000000</td>\n",
       "    </tr>\n",
       "    <tr>\n",
       "      <th>75%</th>\n",
       "      <td>367125.750000</td>\n",
       "      <td>0.000000</td>\n",
       "      <td>1.000000</td>\n",
       "      <td>2.025000e+05</td>\n",
       "      <td>8.086500e+05</td>\n",
       "      <td>34596.000000</td>\n",
       "      <td>6.795000e+05</td>\n",
       "      <td>0.028663</td>\n",
       "      <td>-12418.000000</td>\n",
       "      <td>-289.000000</td>\n",
       "      <td>...</td>\n",
       "      <td>0.000000</td>\n",
       "      <td>0.000000</td>\n",
       "      <td>0.000000</td>\n",
       "      <td>0.000000</td>\n",
       "      <td>0.000000</td>\n",
       "      <td>0.000000</td>\n",
       "      <td>0.000000</td>\n",
       "      <td>0.000000</td>\n",
       "      <td>0.000000</td>\n",
       "      <td>0.000000</td>\n",
       "    </tr>\n",
       "    <tr>\n",
       "      <th>max</th>\n",
       "      <td>456255.000000</td>\n",
       "      <td>1.000000</td>\n",
       "      <td>19.000000</td>\n",
       "      <td>4.500000e+06</td>\n",
       "      <td>4.050000e+06</td>\n",
       "      <td>258025.500000</td>\n",
       "      <td>4.050000e+06</td>\n",
       "      <td>0.072508</td>\n",
       "      <td>-7489.000000</td>\n",
       "      <td>365243.000000</td>\n",
       "      <td>...</td>\n",
       "      <td>1.000000</td>\n",
       "      <td>1.000000</td>\n",
       "      <td>1.000000</td>\n",
       "      <td>1.000000</td>\n",
       "      <td>1.000000</td>\n",
       "      <td>4.000000</td>\n",
       "      <td>9.000000</td>\n",
       "      <td>8.000000</td>\n",
       "      <td>27.000000</td>\n",
       "      <td>261.000000</td>\n",
       "    </tr>\n",
       "  </tbody>\n",
       "</table>\n",
       "<p>8 rows × 59 columns</p>\n",
       "</div>"
      ],
      "text/plain": [
       "          SK_ID_CURR         TARGET   CNT_CHILDREN  AMT_INCOME_TOTAL  \\\n",
       "count  306214.000000  306214.000000  306214.000000      3.062140e+05   \n",
       "mean   278163.871590       0.080839       0.417006      1.682496e+05   \n",
       "std    102786.902546       0.272588       0.722105      9.911863e+04   \n",
       "min    100002.000000       0.000000       0.000000      2.565000e+04   \n",
       "25%    189129.250000       0.000000       0.000000      1.125000e+05   \n",
       "50%    278183.500000       0.000000       0.000000      1.476000e+05   \n",
       "75%    367125.750000       0.000000       1.000000      2.025000e+05   \n",
       "max    456255.000000       1.000000      19.000000      4.500000e+06   \n",
       "\n",
       "         AMT_CREDIT    AMT_ANNUITY  AMT_GOODS_PRICE  \\\n",
       "count  3.062140e+05  306202.000000     3.062140e+05   \n",
       "mean   5.987910e+05   27121.214336     5.379404e+05   \n",
       "std    4.019564e+05   14488.210001     3.689145e+05   \n",
       "min    4.500000e+04    1615.500000     4.050000e+04   \n",
       "25%    2.700000e+05   16551.000000     2.385000e+05   \n",
       "50%    5.135310e+05   24930.000000     4.500000e+05   \n",
       "75%    8.086500e+05   34596.000000     6.795000e+05   \n",
       "max    4.050000e+06  258025.500000     4.050000e+06   \n",
       "\n",
       "       REGION_POPULATION_RELATIVE     DAYS_BIRTH  DAYS_EMPLOYED  ...  \\\n",
       "count               306214.000000  306214.000000  306214.000000  ...   \n",
       "mean                     0.020866  -16040.609851   63859.172530  ...   \n",
       "std                      0.013830    4362.887063  141313.743985  ...   \n",
       "min                      0.000290  -25229.000000  -17912.000000  ...   \n",
       "25%                      0.010006  -19685.000000   -2761.000000  ...   \n",
       "50%                      0.018850  -15756.000000   -1214.000000  ...   \n",
       "75%                      0.028663  -12418.000000    -289.000000  ...   \n",
       "max                      0.072508   -7489.000000  365243.000000  ...   \n",
       "\n",
       "       FLAG_DOCUMENT_17  FLAG_DOCUMENT_18  FLAG_DOCUMENT_19  FLAG_DOCUMENT_20  \\\n",
       "count     306214.000000     306214.000000     306214.000000     306214.000000   \n",
       "mean           0.000261          0.007818          0.000571          0.000493   \n",
       "std            0.016161          0.088074          0.023899          0.022201   \n",
       "min            0.000000          0.000000          0.000000          0.000000   \n",
       "25%            0.000000          0.000000          0.000000          0.000000   \n",
       "50%            0.000000          0.000000          0.000000          0.000000   \n",
       "75%            0.000000          0.000000          0.000000          0.000000   \n",
       "max            1.000000          1.000000          1.000000          1.000000   \n",
       "\n",
       "       FLAG_DOCUMENT_21  AMT_REQ_CREDIT_BUREAU_HOUR  \\\n",
       "count     306214.000000               306214.000000   \n",
       "mean           0.000330                    0.005526   \n",
       "std            0.018158                    0.077951   \n",
       "min            0.000000                    0.000000   \n",
       "25%            0.000000                    0.000000   \n",
       "50%            0.000000                    0.000000   \n",
       "75%            0.000000                    0.000000   \n",
       "max            1.000000                    4.000000   \n",
       "\n",
       "       AMT_REQ_CREDIT_BUREAU_DAY  AMT_REQ_CREDIT_BUREAU_WEEK  \\\n",
       "count              306214.000000               306214.000000   \n",
       "mean                    0.006038                    0.029786   \n",
       "std                     0.102765                    0.190798   \n",
       "min                     0.000000                    0.000000   \n",
       "25%                     0.000000                    0.000000   \n",
       "50%                     0.000000                    0.000000   \n",
       "75%                     0.000000                    0.000000   \n",
       "max                     9.000000                    8.000000   \n",
       "\n",
       "       AMT_REQ_CREDIT_BUREAU_MON  AMT_REQ_CREDIT_BUREAU_QRT  \n",
       "count              306214.000000              306214.000000  \n",
       "mean                    0.231436                   0.229771  \n",
       "std                     0.856385                   0.744699  \n",
       "min                     0.000000                   0.000000  \n",
       "25%                     0.000000                   0.000000  \n",
       "50%                     0.000000                   0.000000  \n",
       "75%                     0.000000                   0.000000  \n",
       "max                    27.000000                 261.000000  \n",
       "\n",
       "[8 rows x 59 columns]"
      ]
     },
     "execution_count": 83,
     "metadata": {},
     "output_type": "execute_result"
    }
   ],
   "source": [
    "present_df.describe()"
   ]
  },
  {
   "cell_type": "code",
   "execution_count": 81,
   "id": "bcaaedd9",
   "metadata": {},
   "outputs": [
    {
     "data": {
      "text/plain": [
       "OBS_30_CNT_SOCIAL_CIRCLE      1021\n",
       "DEF_30_CNT_SOCIAL_CIRCLE      1021\n",
       "OBS_60_CNT_SOCIAL_CIRCLE      1021\n",
       "DEF_60_CNT_SOCIAL_CIRCLE      1021\n",
       "EXT_SOURCE_2                   659\n",
       "                              ... \n",
       "WEEKDAY_APPR_PROCESS_START       0\n",
       "HOUR_APPR_PROCESS_START          0\n",
       "REG_REGION_NOT_LIVE_REGION       0\n",
       "REG_REGION_NOT_WORK_REGION       0\n",
       "AMT_REQ_CREDIT_BUREAU_QRT        0\n",
       "Length: 70, dtype: int64"
      ]
     },
     "execution_count": 81,
     "metadata": {},
     "output_type": "execute_result"
    }
   ],
   "source": [
    "present_df.isnull().sum().sort_values(ascending = False)"
   ]
  },
  {
   "cell_type": "code",
   "execution_count": 82,
   "id": "093e4325",
   "metadata": {},
   "outputs": [
    {
     "data": {
      "text/plain": [
       "count    305193.000000\n",
       "mean          1.421586\n",
       "std           2.400921\n",
       "min           0.000000\n",
       "25%           0.000000\n",
       "50%           0.000000\n",
       "75%           2.000000\n",
       "max         348.000000\n",
       "Name: OBS_30_CNT_SOCIAL_CIRCLE, dtype: float64"
      ]
     },
     "execution_count": 82,
     "metadata": {},
     "output_type": "execute_result"
    }
   ],
   "source": [
    "present_df['OBS_30_CNT_SOCIAL_CIRCLE'].describe()"
   ]
  },
  {
   "cell_type": "code",
   "execution_count": 84,
   "id": "30a6bc6e",
   "metadata": {},
   "outputs": [
    {
     "data": {
      "text/plain": [
       "0.0      163252\n",
       "1.0       48583\n",
       "2.0       29678\n",
       "3.0       20226\n",
       "4.0       14069\n",
       "5.0        9514\n",
       "6.0        6427\n",
       "7.0        4365\n",
       "8.0        2944\n",
       "9.0        1996\n",
       "10.0       1371\n",
       "11.0        849\n",
       "12.0        647\n",
       "13.0        408\n",
       "14.0        258\n",
       "15.0        164\n",
       "16.0        133\n",
       "17.0         87\n",
       "18.0         46\n",
       "19.0         44\n",
       "20.0         30\n",
       "21.0         29\n",
       "22.0         22\n",
       "23.0         15\n",
       "25.0         11\n",
       "24.0         11\n",
       "27.0          5\n",
       "26.0          3\n",
       "30.0          2\n",
       "28.0          1\n",
       "29.0          1\n",
       "47.0          1\n",
       "348.0         1\n",
       "Name: OBS_30_CNT_SOCIAL_CIRCLE, dtype: int64"
      ]
     },
     "execution_count": 84,
     "metadata": {},
     "output_type": "execute_result"
    }
   ],
   "source": [
    "present_df['OBS_30_CNT_SOCIAL_CIRCLE'].value_counts()"
   ]
  },
  {
   "cell_type": "code",
   "execution_count": 85,
   "id": "f6eac767",
   "metadata": {},
   "outputs": [],
   "source": [
    "present_df['OBS_30_CNT_SOCIAL_CIRCLE'] = present_df['OBS_30_CNT_SOCIAL_CIRCLE'].fillna(0.0)"
   ]
  },
  {
   "cell_type": "code",
   "execution_count": 86,
   "id": "07ba67c3",
   "metadata": {},
   "outputs": [
    {
     "data": {
      "text/plain": [
       "count    305193.000000\n",
       "mean          0.143391\n",
       "std           0.446695\n",
       "min           0.000000\n",
       "25%           0.000000\n",
       "50%           0.000000\n",
       "75%           0.000000\n",
       "max          34.000000\n",
       "Name: DEF_30_CNT_SOCIAL_CIRCLE, dtype: float64"
      ]
     },
     "execution_count": 86,
     "metadata": {},
     "output_type": "execute_result"
    }
   ],
   "source": [
    "present_df['DEF_30_CNT_SOCIAL_CIRCLE'].describe()"
   ]
  },
  {
   "cell_type": "code",
   "execution_count": 87,
   "id": "b3fb7b86",
   "metadata": {},
   "outputs": [],
   "source": [
    "present_df['DEF_30_CNT_SOCIAL_CIRCLE'] = present_df['DEF_30_CNT_SOCIAL_CIRCLE'].fillna(0.0)"
   ]
  },
  {
   "cell_type": "code",
   "execution_count": 89,
   "id": "80243cd4",
   "metadata": {},
   "outputs": [],
   "source": [
    "present_df.dropna(subset = ['OBS_60_CNT_SOCIAL_CIRCLE','DEF_60_CNT_SOCIAL_CIRCLE'],axis =0,inplace = True)"
   ]
  },
  {
   "cell_type": "code",
   "execution_count": 91,
   "id": "ede02b4d",
   "metadata": {},
   "outputs": [
    {
     "data": {
      "text/plain": [
       "EXT_SOURCE_2                  655\n",
       "AMT_ANNUITY                    12\n",
       "DAYS_LAST_PHONE_CHANGE          1\n",
       "FLAG_DOCUMENT_2                 0\n",
       "FLAG_DOCUMENT_8                 0\n",
       "                             ... \n",
       "WEEKDAY_APPR_PROCESS_START      0\n",
       "HOUR_APPR_PROCESS_START         0\n",
       "REG_REGION_NOT_LIVE_REGION      0\n",
       "REG_REGION_NOT_WORK_REGION      0\n",
       "AMT_REQ_CREDIT_BUREAU_QRT       0\n",
       "Length: 70, dtype: int64"
      ]
     },
     "execution_count": 91,
     "metadata": {},
     "output_type": "execute_result"
    }
   ],
   "source": [
    "present_df.isnull().sum().sort_values(ascending = False)"
   ]
  },
  {
   "cell_type": "code",
   "execution_count": 92,
   "id": "a2495146",
   "metadata": {},
   "outputs": [],
   "source": [
    "present_df.dropna(axis = 0,inplace = True)"
   ]
  },
  {
   "cell_type": "code",
   "execution_count": 93,
   "id": "0ce6e035",
   "metadata": {},
   "outputs": [
    {
     "data": {
      "text/plain": [
       "(304526, 70)"
      ]
     },
     "execution_count": 93,
     "metadata": {},
     "output_type": "execute_result"
    }
   ],
   "source": [
    "present_df.shape"
   ]
  },
  {
   "cell_type": "code",
   "execution_count": null,
   "id": "6b1c8131",
   "metadata": {},
   "outputs": [],
   "source": []
  },
  {
   "cell_type": "code",
   "execution_count": null,
   "id": "17c88de7",
   "metadata": {},
   "outputs": [],
   "source": []
  },
  {
   "cell_type": "code",
   "execution_count": null,
   "id": "53515c12",
   "metadata": {},
   "outputs": [],
   "source": []
  },
  {
   "cell_type": "code",
   "execution_count": 16,
   "id": "665162f5",
   "metadata": {},
   "outputs": [
    {
     "data": {
      "text/plain": [
       "<AxesSubplot:xlabel='AMT_INCOME_TOTAL', ylabel='AMT_GOODS_PRICE'>"
      ]
     },
     "execution_count": 16,
     "metadata": {},
     "output_type": "execute_result"
    },
    {
     "data": {
      "image/png": "[encoded data removed]",
      "text/plain": [
       "<Figure size 432x288 with 1 Axes>"
      ]
     },
     "metadata": {
      "needs_background": "light"
     },
     "output_type": "display_data"
    }
   ],
   "source": [
    "sns.scatterplot(data = present_df,y = 'AMT_GOODS_PRICE' ,x = 'AMT_INCOME_TOTAL')"
   ]
  },
  {
   "cell_type": "code",
   "execution_count": 17,
   "id": "510bd97f",
   "metadata": {},
   "outputs": [
    {
     "data": {
      "text/plain": [
       "168797.9192969845"
      ]
     },
     "execution_count": 17,
     "metadata": {},
     "output_type": "execute_result"
    }
   ],
   "source": [
    "present_df['AMT_INCOME_TOTAL'].mean()"
   ]
  },
  {
   "cell_type": "code",
   "execution_count": 18,
   "id": "137700a5",
   "metadata": {},
   "outputs": [
    {
     "data": {
      "text/plain": [
       "0    135000.0\n",
       "Name: AMT_INCOME_TOTAL, dtype: float64"
      ]
     },
     "execution_count": 18,
     "metadata": {},
     "output_type": "execute_result"
    }
   ],
   "source": [
    "present_df['AMT_INCOME_TOTAL'].mode()"
   ]
  },
  {
   "cell_type": "code",
   "execution_count": 19,
   "id": "698de7f6",
   "metadata": {},
   "outputs": [
    {
     "data": {
      "text/plain": [
       "117000000.0"
      ]
     },
     "execution_count": 19,
     "metadata": {},
     "output_type": "execute_result"
    }
   ],
   "source": [
    "present_df['AMT_INCOME_TOTAL'].max()"
   ]
  },
  {
   "cell_type": "code",
   "execution_count": 20,
   "id": "48fbf035",
   "metadata": {},
   "outputs": [
    {
     "data": {
      "text/plain": [
       "<AxesSubplot:xlabel='AMT_INCOME_TOTAL'>"
      ]
     },
     "execution_count": 20,
     "metadata": {},
     "output_type": "execute_result"
    },
    {
     "data": {
      "image/png": "[encoded data removed]",
      "text/plain": [
       "<Figure size 432x288 with 1 Axes>"
      ]
     },
     "metadata": {
      "needs_background": "light"
     },
     "output_type": "display_data"
    }
   ],
   "source": [
    "sns.boxplot(data = present_data,x = \"AMT_INCOME_TOTAL\")"
   ]
  },
  {
   "cell_type": "code",
   "execution_count": 21,
   "id": "c9b19cac",
   "metadata": {},
   "outputs": [
    {
     "data": {
      "text/html": [
       "<div>\n",
       "<style scoped>\n",
       "    .dataframe tbody tr th:only-of-type {\n",
       "        vertical-align: middle;\n",
       "    }\n",
       "\n",
       "    .dataframe tbody tr th {\n",
       "        vertical-align: top;\n",
       "    }\n",
       "\n",
       "    .dataframe thead th {\n",
       "        text-align: right;\n",
       "    }\n",
       "</style>\n",
       "<table border=\"1\" class=\"dataframe\">\n",
       "  <thead>\n",
       "    <tr style=\"text-align: right;\">\n",
       "      <th></th>\n",
       "      <th>SK_ID_CURR</th>\n",
       "      <th>TARGET</th>\n",
       "      <th>NAME_CONTRACT_TYPE</th>\n",
       "      <th>CODE_GENDER</th>\n",
       "      <th>FLAG_OWN_CAR</th>\n",
       "      <th>FLAG_OWN_REALTY</th>\n",
       "      <th>CNT_CHILDREN</th>\n",
       "      <th>AMT_INCOME_TOTAL</th>\n",
       "      <th>AMT_CREDIT</th>\n",
       "      <th>AMT_ANNUITY</th>\n",
       "      <th>...</th>\n",
       "      <th>FLAG_DOCUMENT_17</th>\n",
       "      <th>FLAG_DOCUMENT_18</th>\n",
       "      <th>FLAG_DOCUMENT_19</th>\n",
       "      <th>FLAG_DOCUMENT_20</th>\n",
       "      <th>FLAG_DOCUMENT_21</th>\n",
       "      <th>AMT_REQ_CREDIT_BUREAU_HOUR</th>\n",
       "      <th>AMT_REQ_CREDIT_BUREAU_DAY</th>\n",
       "      <th>AMT_REQ_CREDIT_BUREAU_WEEK</th>\n",
       "      <th>AMT_REQ_CREDIT_BUREAU_MON</th>\n",
       "      <th>AMT_REQ_CREDIT_BUREAU_QRT</th>\n",
       "    </tr>\n",
       "  </thead>\n",
       "  <tbody>\n",
       "    <tr>\n",
       "      <th>12840</th>\n",
       "      <td>114967</td>\n",
       "      <td>1</td>\n",
       "      <td>Cash loans</td>\n",
       "      <td>F</td>\n",
       "      <td>N</td>\n",
       "      <td>Y</td>\n",
       "      <td>1</td>\n",
       "      <td>117000000.0</td>\n",
       "      <td>562491.0</td>\n",
       "      <td>26194.5</td>\n",
       "      <td>...</td>\n",
       "      <td>0</td>\n",
       "      <td>0</td>\n",
       "      <td>0</td>\n",
       "      <td>0</td>\n",
       "      <td>0</td>\n",
       "      <td>0.0</td>\n",
       "      <td>0.0</td>\n",
       "      <td>0.0</td>\n",
       "      <td>0.0</td>\n",
       "      <td>0.0</td>\n",
       "    </tr>\n",
       "  </tbody>\n",
       "</table>\n",
       "<p>1 rows × 70 columns</p>\n",
       "</div>"
      ],
      "text/plain": [
       "       SK_ID_CURR  TARGET NAME_CONTRACT_TYPE CODE_GENDER FLAG_OWN_CAR  \\\n",
       "12840      114967       1         Cash loans           F            N   \n",
       "\n",
       "      FLAG_OWN_REALTY  CNT_CHILDREN  AMT_INCOME_TOTAL  AMT_CREDIT  \\\n",
       "12840               Y             1       117000000.0    562491.0   \n",
       "\n",
       "       AMT_ANNUITY  ...  FLAG_DOCUMENT_17 FLAG_DOCUMENT_18 FLAG_DOCUMENT_19  \\\n",
       "12840      26194.5  ...                 0                0                0   \n",
       "\n",
       "      FLAG_DOCUMENT_20 FLAG_DOCUMENT_21 AMT_REQ_CREDIT_BUREAU_HOUR  \\\n",
       "12840                0                0                        0.0   \n",
       "\n",
       "       AMT_REQ_CREDIT_BUREAU_DAY  AMT_REQ_CREDIT_BUREAU_WEEK  \\\n",
       "12840                        0.0                         0.0   \n",
       "\n",
       "       AMT_REQ_CREDIT_BUREAU_MON  AMT_REQ_CREDIT_BUREAU_QRT  \n",
       "12840                        0.0                        0.0  \n",
       "\n",
       "[1 rows x 70 columns]"
      ]
     },
     "execution_count": 21,
     "metadata": {},
     "output_type": "execute_result"
    }
   ],
   "source": [
    "present_df.loc[present_df['AMT_INCOME_TOTAL']==117000000.0]"
   ]
  },
  {
   "cell_type": "code",
   "execution_count": null,
   "id": "835e650c",
   "metadata": {},
   "outputs": [],
   "source": []
  },
  {
   "cell_type": "code",
   "execution_count": 22,
   "id": "36f6aa2f",
   "metadata": {},
   "outputs": [
    {
     "data": {
      "text/plain": [
       "0    282686\n",
       "1     24825\n",
       "Name: TARGET, dtype: int64"
      ]
     },
     "execution_count": 22,
     "metadata": {},
     "output_type": "execute_result"
    }
   ],
   "source": [
    "present_df['TARGET'].value_counts()"
   ]
  },
  {
   "cell_type": "markdown",
   "id": "39012854",
   "metadata": {},
   "source": [
    "## I have observed that a few clients have an income that is a lot higher than the income of any other client and the other attributes like AMT_CREDIT or AMT_GOODS_PRICE also don't have any visible relation with the huge amount. So I will remove it as it is an outlier."
   ]
  },
  {
   "cell_type": "code",
   "execution_count": 23,
   "id": "3c9020ee",
   "metadata": {},
   "outputs": [],
   "source": [
    "present_df.drop(present_df.loc[present_df['AMT_INCOME_TOTAL']==117000000.0].index,axis = 0,inplace = True)"
   ]
  },
  {
   "cell_type": "code",
   "execution_count": 24,
   "id": "793f5922",
   "metadata": {},
   "outputs": [
    {
     "data": {
      "text/plain": [
       "18000090.0"
      ]
     },
     "execution_count": 24,
     "metadata": {},
     "output_type": "execute_result"
    }
   ],
   "source": [
    "present_df['AMT_INCOME_TOTAL'].max()"
   ]
  },
  {
   "cell_type": "code",
   "execution_count": 25,
   "id": "6577cdbf",
   "metadata": {},
   "outputs": [],
   "source": [
    "present_df.drop(present_df.loc[present_df['AMT_INCOME_TOTAL']==18000090.0].index,axis = 0,inplace = True)"
   ]
  },
  {
   "cell_type": "code",
   "execution_count": 26,
   "id": "60d70e23",
   "metadata": {},
   "outputs": [
    {
     "data": {
      "text/plain": [
       "13500000.0"
      ]
     },
     "execution_count": 26,
     "metadata": {},
     "output_type": "execute_result"
    }
   ],
   "source": [
    "present_df['AMT_INCOME_TOTAL'].max()"
   ]
  },
  {
   "cell_type": "code",
   "execution_count": 27,
   "id": "0bb71423",
   "metadata": {},
   "outputs": [],
   "source": [
    "present_df.drop(present_df.loc[present_df['AMT_INCOME_TOTAL']==13500000.0].index,axis = 0,inplace = True)"
   ]
  },
  {
   "cell_type": "code",
   "execution_count": 28,
   "id": "fd19b965",
   "metadata": {},
   "outputs": [
    {
     "data": {
      "text/plain": [
       "9000000.0"
      ]
     },
     "execution_count": 28,
     "metadata": {},
     "output_type": "execute_result"
    }
   ],
   "source": [
    "present_df['AMT_INCOME_TOTAL'].max()"
   ]
  },
  {
   "cell_type": "code",
   "execution_count": 29,
   "id": "7f87366e",
   "metadata": {},
   "outputs": [],
   "source": [
    "present_df.drop(present_df.loc[present_df['AMT_INCOME_TOTAL']==9000000.0].index,axis = 0,inplace = True)"
   ]
  },
  {
   "cell_type": "code",
   "execution_count": 30,
   "id": "b77dcef6",
   "metadata": {},
   "outputs": [
    {
     "data": {
      "text/plain": [
       "6750000.0"
      ]
     },
     "execution_count": 30,
     "metadata": {},
     "output_type": "execute_result"
    }
   ],
   "source": [
    "present_df['AMT_INCOME_TOTAL'].max()"
   ]
  },
  {
   "cell_type": "code",
   "execution_count": 31,
   "id": "85b45c32",
   "metadata": {},
   "outputs": [],
   "source": [
    "present_df.drop(present_df.loc[present_df['AMT_INCOME_TOTAL']==6750000.0].index,axis = 0,inplace = True)"
   ]
  },
  {
   "cell_type": "code",
   "execution_count": 32,
   "id": "f430b179",
   "metadata": {},
   "outputs": [
    {
     "data": {
      "text/plain": [
       "<AxesSubplot:xlabel='AMT_INCOME_TOTAL', ylabel='AMT_CREDIT'>"
      ]
     },
     "execution_count": 32,
     "metadata": {},
     "output_type": "execute_result"
    },
    {
     "data": {
      "image/png": "[encoded data removed]",
      "text/plain": [
       "<Figure size 432x288 with 1 Axes>"
      ]
     },
     "metadata": {
      "needs_background": "light"
     },
     "output_type": "display_data"
    }
   ],
   "source": [
    "sns.scatterplot(data = present_df,y = 'AMT_CREDIT' ,x = 'AMT_INCOME_TOTAL',hue = 'FLAG_OWN_CAR')"
   ]
  },
  {
   "cell_type": "code",
   "execution_count": null,
   "id": "cc0ef73e",
   "metadata": {},
   "outputs": [],
   "source": []
  },
  {
   "cell_type": "code",
   "execution_count": null,
   "id": "0d322a57",
   "metadata": {},
   "outputs": [],
   "source": []
  },
  {
   "cell_type": "code",
   "execution_count": null,
   "id": "06d979a2",
   "metadata": {},
   "outputs": [],
   "source": []
  },
  {
   "cell_type": "code",
   "execution_count": null,
   "id": "0887a31f",
   "metadata": {},
   "outputs": [],
   "source": []
  },
  {
   "cell_type": "code",
   "execution_count": null,
   "id": "8d4c338e",
   "metadata": {},
   "outputs": [],
   "source": []
  },
  {
   "cell_type": "code",
   "execution_count": null,
   "id": "19382ab2",
   "metadata": {},
   "outputs": [],
   "source": []
  },
  {
   "cell_type": "code",
   "execution_count": null,
   "id": "d9ea1e0a",
   "metadata": {},
   "outputs": [],
   "source": []
  }
 ],
 "metadata": {
  "kernelspec": {
   "display_name": "Python 3 (ipykernel)",
   "language": "python",
   "name": "python3"
  },
  "language_info": {
   "codemirror_mode": {
    "name": "ipython",
    "version": 3
   },
   "file_extension": ".py",
   "mimetype": "text/x-python",
   "name": "python",
   "nbconvert_exporter": "python",
   "pygments_lexer": "ipython3",
   "version": "3.9.12"
  }
 },
 "nbformat": 4,
 "nbformat_minor": 5
}
